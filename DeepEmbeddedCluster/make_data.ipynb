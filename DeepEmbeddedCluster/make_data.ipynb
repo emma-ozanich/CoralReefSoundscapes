{
 "cells": [
  {
   "cell_type": "code",
   "execution_count": 3,
   "metadata": {},
   "outputs": [],
   "source": [
    "# check if gpus available\n",
    "import os\n",
    "os.environ[\"CUDA_VISIBLE_DEVICES\"]=\"\"\n",
    "\n",
    "# import the package dependencies\n",
    "from glob import glob as gb #get filenames from path\n",
    "from load_data_make_spectrogram import proc_data\n",
    "#from load_data_make_timeseries import proc_data\n",
    "import numpy as np # number computation package\n",
    "import time # for calculating runtime\n",
    "import pandas as pd\n",
    "import matplotlib.pyplot as plt\n",
    "\n",
    "import importlib\n",
    "import keras\n",
    "import scipy.io as sio\n",
    "\n",
    "# # # # # # # # # # #\n",
    "t00= time.time()"
   ]
  },
  {
   "cell_type": "code",
   "execution_count": 5,
   "metadata": {},
   "outputs": [
    {
     "name": "stdout",
     "output_type": "stream",
     "text": [
      "['../../../Hawaii_data/DASARs/PB20gsif/PB20X0/PB20X0T20200225T000000.gsi'] ../../../Hawaii_data/DASARs/PB20gsif/PB20X0/\n",
      "(92736, 90, 20, 6)\n"
     ]
    },
    {
     "data": {
      "image/png": "[encoded data removed]",
      "text/plain": [
       "<Figure size 432x288 with 1 Axes>"
      ]
     },
     "metadata": {
      "needs_background": "light"
     },
     "output_type": "display_data"
    },
    {
     "name": "stdout",
     "output_type": "stream",
     "text": [
      "0\n"
     ]
    }
   ],
   "source": [
    "%run -i 'set_params.py'\n",
    "files = sorted(gb(dpath + '*X*225*.gsi'))\n",
    "print(files, dpath)\n",
    "\n",
    "inddct = sio.loadmat(spath + 'PB20ZYX0T20200225T000000_1439minDur_Ind_Trel.mat')\n",
    "ind = inddct['ind']\n",
    "dur = inddct['dur'][0]\n",
    "Nevent = len(dur)\n",
    "trel = inddct['trel']\n",
    "#print(nF,nL)\n",
    "input_matrix = np.zeros((Nevent, nF, nL+1, 6), dtype=float)\n",
    "print(input_matrix.shape)#, z.shape, ind[:,-1]\n",
    "plt.hist(dur,bins=0.0256*np.arange(0,40))\n",
    "plt.xlim((0,1))\n",
    "plt.xlabel('Duration (s)')\n",
    "plt.show()\n",
    "\n",
    "# create a list indexed by day\n",
    "i=0\n",
    "tick=0\n",
    "ind_list = []\n",
    "dur_list = []\n",
    "placeholder1 = []\n",
    "placeholder2 = []\n",
    "for i in range(ind.shape[1]-1):\n",
    "    if (np.abs(ind[2,i]-ind[2,i+1])<10**6):\n",
    "        placeholder1.append(ind[2,i])\n",
    "        placeholder2.append(dur[i])\n",
    "    else:\n",
    "        ind_list.append(placeholder1)\n",
    "        dur_list.append(placeholder2)\n",
    "        print('finishing ' + files[tick])\n",
    "        tick=tick+1\n",
    "        placeholder1 = []\n",
    "        placeholder2 = []\n",
    "print(tick)\n",
    "if tick==0:\n",
    "    ind_list.append(placeholder1)\n",
    "    dur_list.append(placeholder2)\n",
    "\n",
    "# # remove first day\n",
    "#files = files[1:]\n",
    "#del ind_list[0]\n",
    "#del dur_list[0]"
   ]
  },
  {
   "cell_type": "markdown",
   "metadata": {},
   "source": [
    "## Run these cells to generate the data"
   ]
  },
  {
   "cell_type": "code",
   "execution_count": 6,
   "metadata": {},
   "outputs": [
    {
     "name": "stdout",
     "output_type": "stream",
     "text": [
      "Now processing ../../../Hawaii_data/DASARs/PB20gsif/PB20X0/PB20X0T20200225T000000.gsi\n",
      "174.95786905288696\n",
      "(92736, 90, 20, 3)\n"
     ]
    }
   ],
   "source": [
    "# # # # use TS data\n",
    "tstart = [0,0,0,0,0]\n",
    "tsample = [23.99*3600,23.99*3600,23.99*3600,23.99*3600,23.99*3600]\n",
    "input_matrix = proc_data(files, tstart, tsample, ind_list, dur_list, Nevent)\n",
    "print(input_matrix.shape)"
   ]
  },
  {
   "cell_type": "code",
   "execution_count": 7,
   "metadata": {},
   "outputs": [
    {
     "name": "stdout",
     "output_type": "stream",
     "text": [
      "23.9828075 0.025999999999999995\n",
      "(92736, 90, 20, 3)\n",
      "0.9779805037957212\n"
     ]
    }
   ],
   "source": [
    "print(ind_list[-1][-1]/Fs/3600, dur_list[-1][-1])\n",
    "print (input_matrix.shape)\n",
    "print(len(dur[dur<=0.5])/len(dur))\n",
    "np.save(spath + 'Feb25_det_90_120_trunc049sfull_025sbuff_nfft256_3D.npy',input_matrix)"
   ]
  },
  {
   "cell_type": "code",
   "execution_count": null,
   "metadata": {
    "collapsed": true
   },
   "outputs": [],
   "source": []
  }
 ],
 "metadata": {
  "kernelspec": {
   "display_name": "new_deep",
   "language": "python",
   "name": "new_deep"
  },
  "language_info": {
   "codemirror_mode": {
    "name": "ipython",
    "version": 3
   },
   "file_extension": ".py",
   "mimetype": "text/x-python",
   "name": "python",
   "nbconvert_exporter": "python",
   "pygments_lexer": "ipython3",
   "version": "3.6.7"
  }
 },
 "nbformat": 4,
 "nbformat_minor": 2
}
